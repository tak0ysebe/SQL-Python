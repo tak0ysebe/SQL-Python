{
 "cells": [
  {
   "cell_type": "code",
   "execution_count": 1,
   "id": "9de1602c",
   "metadata": {},
   "outputs": [],
   "source": [
    "import psycopg2\n",
    "from psycopg2.extensions import ISOLATION_LEVEL_AUTOCOMMIT"
   ]
  },
  {
   "cell_type": "code",
   "execution_count": 2,
   "id": "f41c1ed3",
   "metadata": {},
   "outputs": [],
   "source": [
    "con = psycopg2.connect(\n",
    " database=\"red_book\",\n",
    " user=\"postgres\",\n",
    " password=\"postgres\",\n",
    " host=\"127.0.0.1\",\n",
    " port=\"5432\"\n",
    ")"
   ]
  },
  {
   "cell_type": "code",
   "execution_count": 3,
   "id": "f346e0d3",
   "metadata": {},
   "outputs": [
    {
     "name": "stdout",
     "output_type": "stream",
     "text": [
      "Done!\n"
     ]
    }
   ],
   "source": [
    "cur = con.cursor()\n",
    "cur.execute('''create table if not exists countries (\n",
    "    c_id integer PRIMARY KEY NOT NULL,\n",
    "    c_name character varying,\n",
    "    continent character varying,\n",
    "    capital character varying);''')\n",
    "print(\"Done!\")"
   ]
  },
  {
   "cell_type": "code",
   "execution_count": 3,
   "id": "3feae6e5",
   "metadata": {},
   "outputs": [],
   "source": [
    "cur = con.cursor()"
   ]
  },
  {
   "cell_type": "code",
   "execution_count": 4,
   "id": "0e9ada93",
   "metadata": {},
   "outputs": [
    {
     "name": "stdout",
     "output_type": "stream",
     "text": [
      "Done!\n"
     ]
    }
   ],
   "source": [
    "cur.execute('''create table if not exists plants (\n",
    "    p_id integer PRIMARY KEY NOT NULL,\n",
    "    p_name character varying,\n",
    "    family character varying,\n",
    "    section character varying);''')\n",
    "print(\"Done!\")"
   ]
  },
  {
   "cell_type": "code",
   "execution_count": 5,
   "id": "91851b9e",
   "metadata": {},
   "outputs": [
    {
     "name": "stdout",
     "output_type": "stream",
     "text": [
      "Done!\n"
     ]
    }
   ],
   "source": [
    "cur.execute('''create table plants_in_countries (\n",
    "    country int,\n",
    "    plant int,\n",
    "    amount int,\n",
    "    FOREIGN KEY (country)  REFERENCES countries (c_id),\n",
    "    FOREIGN KEY (plant)  REFERENCES plants (p_id));''')\n",
    "con.commit()\n",
    "print(\"Done!\")"
   ]
  },
  {
   "cell_type": "code",
   "execution_count": 6,
   "id": "b8dc1e45",
   "metadata": {},
   "outputs": [
    {
     "name": "stdout",
     "output_type": "stream",
     "text": [
      "Done!\n"
     ]
    }
   ],
   "source": [
    "def insert1countries(avav):\n",
    "    cur.execute(f'''INSERT INTO countries (c_id, c_name, continent, capital)\n",
    "        VALUES {avav};''')\n",
    "insert1countries(\"(1, 'Россия', 'Евразия', 'Москва')\")\n",
    "con.commit()\n",
    "print(\"Done!\")"
   ]
  },
  {
   "cell_type": "code",
   "execution_count": 4,
   "id": "0c60a847",
   "metadata": {},
   "outputs": [
    {
     "name": "stdout",
     "output_type": "stream",
     "text": [
      "Done!\n"
     ]
    }
   ],
   "source": [
    "def insertallcountries(avav):\n",
    "    cur.execute(f'''INSERT INTO countries (c_id, c_name, continent, capital)\n",
    "        VALUES {avav};''')\n",
    "insertallcountries(\"(2, 'Чехия', 'Евразия', 'Прага'), (3, 'Германия', 'Евразия', 'Берлин'), \\\n",
    " (4, 'Польша', 'Евразия', 'Варшава'), (5, 'Франция', 'Евразия', 'Париж'),\\\n",
    " (6, 'Австралия', 'Австралия', NULL), (7, 'Латвия', 'Евразия', 'Рига'),\\\n",
    " (8, 'Канада', 'Северная Америка', 'Оттава'), (9, 'Мексика', 'Северная Америка', 'Мехико'),\\\n",
    " (10, 'Нигерия', 'Африка', 'Абуджа')\")\n",
    "con.commit()\n",
    "print(\"Done!\")"
   ]
  },
  {
   "cell_type": "code",
   "execution_count": 7,
   "id": "b207b5c1",
   "metadata": {},
   "outputs": [
    {
     "name": "stdout",
     "output_type": "stream",
     "text": [
      "Done!\n"
     ]
    }
   ],
   "source": [
    "def insert1plants(avav):\n",
    "    cur.execute(f'''INSERT INTO plants (p_id, p_name, family, section)\n",
    "        VALUES {avav};''')\n",
    "insert1plants(\"(1, 'Мутинус собачий', 'Веселковые', 'Грибы')\")\n",
    "con.commit()\n",
    "print(\"Done!\")"
   ]
  },
  {
   "cell_type": "code",
   "execution_count": 5,
   "id": "68451177",
   "metadata": {},
   "outputs": [
    {
     "name": "stdout",
     "output_type": "stream",
     "text": [
      "Done!\n"
     ]
    }
   ],
   "source": [
    "def insertallplants(avav):\n",
    "    cur.execute(f'''INSERT INTO plants (p_id, p_name, family, section)\n",
    "        VALUES {avav};''')\n",
    "insertallplants(\"(2, 'Рогатик пестиковый', 'Клавариевые', 'Грибы'), \\\n",
    " (3, 'Пиррозия язычная', 'Многоножковые', 'Папаратниковидные'), \\\n",
    " (4, 'Лепторумора Микеля', 'Аспидиевые', 'Папаратниковидные'), \\\n",
    " (5, 'Марсилея щетинистая', 'Марсилеевые', 'Папаратниковидные'),\\\n",
    " (6, 'Стереокаулон обнаженный', 'Стереокаулиевые', NULL), \\\n",
    " (7, 'Асахинея Шоландера', 'Пармелиевые', 'Лишайники'), \\\n",
    " (8, 'Кладония вулканная', 'Кладониевые', 'Лишайники'), \\\n",
    " (9, 'Корниклярия степная', 'Уснеевые', 'Лишайники'), \\\n",
    " (10, 'Телосхистес Желтоватьй', 'Телосхистовые', 'Лишайники')\")\n",
    "con.commit()\n",
    "print(\"Done!\")"
   ]
  },
  {
   "cell_type": "code",
   "execution_count": 6,
   "id": "18b22f55",
   "metadata": {},
   "outputs": [
    {
     "name": "stdout",
     "output_type": "stream",
     "text": [
      "Done!\n"
     ]
    }
   ],
   "source": [
    "def insert1plants_in_countries(avav):\n",
    "    cur.execute(f'''INSERT INTO plants_in_countries (country, plant, amount)\n",
    "        VALUES {avav};''')\n",
    "insert1plants_in_countries(\"(1, 3, 300)\")\n",
    "con.commit()\n",
    "print(\"Done!\")"
   ]
  },
  {
   "cell_type": "code",
   "execution_count": 7,
   "id": "3430cef5",
   "metadata": {},
   "outputs": [
    {
     "name": "stdout",
     "output_type": "stream",
     "text": [
      "Done!\n"
     ]
    }
   ],
   "source": [
    "def insertallplants_in_countries(avav):\n",
    "    cur.execute(f'''INSERT INTO plants_in_countries (country, plant, amount)\n",
    "        VALUES {avav};''')\n",
    "insert1plants_in_countries(\"(3, 1, 10), (4, 2, 500), (5, 2, 230), (5, 5, 100), \\\n",
    " (9, 9, 56), (1, 6, 400), (6, 5, 100), (1, 2, 560), (5, 1, 20), (7, 7, 500), \\\n",
    " (8, 9, 140), (9, 10, 56), (2, 5, 122), (3, 5, 166), (3, 4, 122), (4, 9, 200), \\\n",
    " (5, 4, 20), (6, 1, 145), (7, 2, 546)\")\n",
    "con.commit()\n",
    "print(\"Done!\")"
   ]
  },
  {
   "cell_type": "code",
   "execution_count": null,
   "id": "65ed66b6",
   "metadata": {},
   "outputs": [],
   "source": []
  }
 ],
 "metadata": {
  "kernelspec": {
   "display_name": "Python 3 (ipykernel)",
   "language": "python",
   "name": "python3"
  },
  "language_info": {
   "codemirror_mode": {
    "name": "ipython",
    "version": 3
   },
   "file_extension": ".py",
   "mimetype": "text/x-python",
   "name": "python",
   "nbconvert_exporter": "python",
   "pygments_lexer": "ipython3",
   "version": "3.9.13"
  }
 },
 "nbformat": 4,
 "nbformat_minor": 5
}
