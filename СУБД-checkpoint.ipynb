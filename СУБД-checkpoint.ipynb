{
 "cells": [
  {
   "cell_type": "markdown",
   "id": "2c746323",
   "metadata": {},
   "source": [
    "# Сибирев ПМ22-3 Вариант 1"
   ]
  },
  {
   "cell_type": "markdown",
   "id": "5c2fb7e1",
   "metadata": {},
   "source": [
    "### Задание 1"
   ]
  },
  {
   "cell_type": "code",
   "execution_count": 5,
   "id": "c4eb1af3",
   "metadata": {},
   "outputs": [
    {
     "name": "stdout",
     "output_type": "stream",
     "text": [
      "Collecting psycopg2\n",
      "  Downloading psycopg2-2.9.9-cp39-cp39-win_amd64.whl (1.2 MB)\n",
      "     ---------------------------------------- 1.2/1.2 MB 3.7 MB/s eta 0:00:00\n",
      "Installing collected packages: psycopg2\n",
      "Successfully installed psycopg2-2.9.9\n",
      "Note: you may need to restart the kernel to use updated packages.\n"
     ]
    }
   ],
   "source": [
    "pip install psycopg2"
   ]
  },
  {
   "cell_type": "code",
   "execution_count": 17,
   "id": "31b3f90c",
   "metadata": {},
   "outputs": [],
   "source": [
    "import psycopg2\n",
    "from psycopg2.extensions import ISOLATION_LEVEL_AUTOCOMMIT"
   ]
  },
  {
   "cell_type": "code",
   "execution_count": 95,
   "id": "0774d441",
   "metadata": {},
   "outputs": [
    {
     "name": "stdout",
     "output_type": "stream",
     "text": [
      "Подключение установлено!\n"
     ]
    }
   ],
   "source": [
    "con = psycopg2.connect(\n",
    "database=\"ProductsBD\",\n",
    "user=\"postgres\",\n",
    "password=\"postgres\",\n",
    "host=\"127.0.0.1\",\n",
    "port=\"5432\"\n",
    ")\n",
    "print(\"Подключение установлено!\")\n",
    "cur = con.cursor()"
   ]
  },
  {
   "cell_type": "code",
   "execution_count": 45,
   "id": "13e0bc5b",
   "metadata": {},
   "outputs": [
    {
     "name": "stdout",
     "output_type": "stream",
     "text": [
      "Таблица создана!\n"
     ]
    }
   ],
   "source": [
    "cur.execute('''create table if not exists stock (\n",
    "    s_id integer PRIMARY KEY NOT NULL,\n",
    "    adress VARCHAR(50),\n",
    "    number INT,\n",
    "    surname VARCHAR(50));''')\n",
    "print(\"Таблица создана!\")"
   ]
  },
  {
   "cell_type": "code",
   "execution_count": 46,
   "id": "2caca66d",
   "metadata": {},
   "outputs": [
    {
     "name": "stdout",
     "output_type": "stream",
     "text": [
      "Таблица создана!\n"
     ]
    }
   ],
   "source": [
    "cur.execute('''create table if not exists product (\n",
    "    p_id integer PRIMARY KEY NOT NULL,\n",
    "    name VARCHAR(50),\n",
    "    groupn VARCHAR(50),\n",
    "    firm VARCHAR(50));''')\n",
    "print(\"Таблица создана!\")"
   ]
  },
  {
   "cell_type": "code",
   "execution_count": 47,
   "id": "4be6766f",
   "metadata": {},
   "outputs": [
    {
     "name": "stdout",
     "output_type": "stream",
     "text": [
      "Таблица создана!\n"
     ]
    }
   ],
   "source": [
    "cur.execute('''create table if not exists product_available (\n",
    "    stockn int,\n",
    "    number_p int,\n",
    "    amount int,\n",
    "    FOREIGN KEY (stockn) REFERENCES stock (s_id),\n",
    "    FOREIGN KEY (number_p) REFERENCES product (p_id));''')\n",
    "con.commit()\n",
    "print(\"Таблица создана!\")"
   ]
  },
  {
   "cell_type": "markdown",
   "id": "5a68a6aa",
   "metadata": {},
   "source": [
    "### Задание 2"
   ]
  },
  {
   "cell_type": "code",
   "execution_count": 88,
   "id": "df95a371",
   "metadata": {},
   "outputs": [
    {
     "name": "stdout",
     "output_type": "stream",
     "text": [
      "Значения добавлены!\n"
     ]
    }
   ],
   "source": [
    "def add_stock(word):\n",
    "    cur.execute(f'''INSERT INTO stock (s_id, adress, number, surname) VALUES {word};''')\n",
    "add_stock('''(1, 'Первомайская_1', 111111, 'Иванов'), (2, 'Московское_7', 222222, 'Сидоров'), (3, 'Касимовское_3', 111222, 'Петров'),\n",
    "              (4, 'Куйбышевское_27', 334455, 'Ковалев'), (5, 'Шабулина_12', 121212, 'Маматов'), (6, 'Яюлочкова_11', 345678, 'Маматов'),\n",
    "              (7, 'Циолковского_17', 778877, 'Сазонов'), (8, 'Павлова_28', 321321, NULL), (9, 'Новоселов_60', 223344, 'Лоськов'),\n",
    "              (10, 'Забайкальская_14', 445544, 'Родин')''')\n",
    "con.commit()\n",
    "print(\"Значения добавлены!\")"
   ]
  },
  {
   "cell_type": "code",
   "execution_count": null,
   "id": "c9b69b77",
   "metadata": {},
   "outputs": [],
   "source": [
    "def add_1stock(word):\n",
    "    cur.execute(f'''INSERT INTO stock (s_id, adress, number, surname) VALUES {word};''')\n",
    "add_1stock(\"(1, 'Первомайская_1', 111111, 'Иванов')\")\n",
    "con.commit()\n",
    "print(\"Значения добавлены!\")"
   ]
  },
  {
   "cell_type": "code",
   "execution_count": 26,
   "id": "42ba1c71",
   "metadata": {},
   "outputs": [
    {
     "name": "stdout",
     "output_type": "stream",
     "text": [
      "Значения добавлены!\n"
     ]
    }
   ],
   "source": [
    "def add_product(word):\n",
    "    cur.execute(f'''INSERT INTO product (p_id, name, groupn, firm) VALUES {word};''')\n",
    "add_product('''(1, 'Колбаса', 'Продукты', 'Скопинский'), (2, 'Сыр', 'Продукты', 'Молкомбинат'), (3, 'Хлеб', 'Продукты', 'Хлебзавод 1'),\n",
    "               (4, 'Телевизор', 'Техника', 'Sony'), (5, 'Стол', 'Мебель', 'IKEA'), (6, 'Автокресло', NULL, NULL), (7, 'Лопата', 'Хозтовары', 'Мехзавод'),\n",
    "               (8, 'Мочалка', 'Хозтовары', 'Авангард'), (9, 'Мыло', 'Хозтовары', 'Свобода'), (10, 'Кастрюля', 'Хозтовары', 'Технопласт')''')\n",
    "con.commit()\n",
    "print(\"Значения добавлены!\")"
   ]
  },
  {
   "cell_type": "code",
   "execution_count": 27,
   "id": "8288a86e",
   "metadata": {},
   "outputs": [
    {
     "name": "stdout",
     "output_type": "stream",
     "text": [
      "Значения добавлены!\n"
     ]
    }
   ],
   "source": [
    "def add_product_available(word):\n",
    "    cur.execute(f'''INSERT INTO product_available (stockn, number_p, amount) VALUES {word};''')\n",
    "add_product_available('''(1, 3, 5000), (1, 10, 400), (2, 4, 8000), (2, 7, 1000), (2, 8, 7000), (3, 3, 500), (3, 8, 9000),\n",
    "                         (3, 9, 15000), (4, 1, 2500), (4, 8, 10000), (5, 2, 1000), (6, 9, 4500), (6, 3, 2000), (6, 5, 800),\n",
    "                         (7, 7, 700), (7, 2, 9000), (8, 1, 3000), (9, 5, 1000), (9, 8, 5000), (9, 10, 500)''')\n",
    "con.commit()\n",
    "print(\"Значения добавлены!\")"
   ]
  },
  {
   "cell_type": "markdown",
   "id": "f42b6e14",
   "metadata": {},
   "source": [
    "### Задание 3"
   ]
  },
  {
   "cell_type": "code",
   "execution_count": 89,
   "id": "7f8afa53",
   "metadata": {},
   "outputs": [
    {
     "data": {
      "text/plain": [
       "[(1, 'Первомайская_1', 111111, 'Иванов'),\n",
       " (2, 'Московское_7', 222222, 'Сидоров'),\n",
       " (3, 'Касимовское_3', 111222, 'Петров'),\n",
       " (4, 'Куйбышевское_27', 334455, 'Ковалев'),\n",
       " (5, 'Шабулина_12', 121212, 'Маматов'),\n",
       " (6, 'Яюлочкова_11', 345678, 'Маматов'),\n",
       " (7, 'Циолковского_17', 778877, 'Сазонов'),\n",
       " (8, 'Павлова_28', 321321, None),\n",
       " (9, 'Новоселов_60', 223344, 'Лоськов'),\n",
       " (10, 'Забайкальская_14', 445544, 'Родин')]"
      ]
     },
     "execution_count": 89,
     "metadata": {},
     "output_type": "execute_result"
    }
   ],
   "source": [
    "def select_all_from_bd(bd):\n",
    "    cur.execute(f\"SELECT * FROM {bd}\")\n",
    "    rows = cur.fetchall()\n",
    "    return rows\n",
    "select_all_from_bd('stock')"
   ]
  },
  {
   "cell_type": "code",
   "execution_count": 61,
   "id": "35b7a574",
   "metadata": {},
   "outputs": [
    {
     "data": {
      "text/plain": [
       "[(5, 'Стол', 'Мебель', 'IKEA')]"
      ]
     },
     "execution_count": 61,
     "metadata": {},
     "output_type": "execute_result"
    }
   ],
   "source": [
    "def select_row_by_if(bd, usl, chisl):\n",
    "    cur.execute(f\"SELECT * FROM {bd} WHERE {usl} = '{chisl}'\")\n",
    "    rows = cur.fetchall()\n",
    "    return rows\n",
    "select_row_by_if('product', 'firm', 'IKEA')"
   ]
  },
  {
   "cell_type": "code",
   "execution_count": 67,
   "id": "14cae0b2",
   "metadata": {},
   "outputs": [
    {
     "data": {
      "text/plain": [
       "[('Хлеб', 5000),\n",
       " ('Хлеб', 500),\n",
       " ('Колбаса', 2500),\n",
       " ('Сыр', 1000),\n",
       " ('Хлеб', 2000),\n",
       " ('Сыр', 9000),\n",
       " ('Колбаса', 3000)]"
      ]
     },
     "execution_count": 67,
     "metadata": {},
     "output_type": "execute_result"
    }
   ],
   "source": [
    "def select_combined_data(bd1, bd2, join1, join2, row1, row2, usl, chisl):\n",
    "    cur.execute(f\"SELECT {row1}, {row2} FROM {bd1} INNER JOIN {bd2} ON {join1} = {join2} WHERE {usl} = '{chisl}'\")\n",
    "    rows = cur.fetchall()\n",
    "    return rows\n",
    "\n",
    "select_combined_data('product', 'product_available', 'product.p_id', 'product_available.number_p', 'product.name', \n",
    "                     'product_available.amount', 'product.groupn', 'Продукты')\n"
   ]
  },
  {
   "cell_type": "markdown",
   "id": "7391d3b6",
   "metadata": {},
   "source": [
    "### Задание 4"
   ]
  },
  {
   "cell_type": "code",
   "execution_count": null,
   "id": "1b929cfe",
   "metadata": {},
   "outputs": [],
   "source": [
    "def update_bd(bd, word, new_word, usl, chisl):\n",
    "    cur.execute(f\"UPDATE {bd} SET {word} = '{new_word}' WHERE {usl} = '{chisl}'\")\n",
    "    con.commit()\n",
    "    rows = cur.fetchall()\n",
    "    return rows\n",
    "update_bd('stock', 'surname', 'Гавкин-Мяукин', 'number', 321321)"
   ]
  },
  {
   "cell_type": "markdown",
   "id": "ca0f0279",
   "metadata": {},
   "source": [
    "### Задание 5"
   ]
  },
  {
   "cell_type": "code",
   "execution_count": 86,
   "id": "3ca4ce79",
   "metadata": {},
   "outputs": [],
   "source": [
    "def del_all(bd):\n",
    "    foreign_key_tables = ['product_available']\n",
    "    for table in foreign_key_tables:\n",
    "        cur.execute(f\"DELETE FROM {table} WHERE {table}.stockn IN (SELECT {bd}.s_id FROM {bd})\")\n",
    "    cur.execute(f\"DELETE FROM {bd}\")\n",
    "    con.commit()\n",
    "\n",
    "del_all('stock')"
   ]
  },
  {
   "cell_type": "code",
   "execution_count": 87,
   "id": "ae76adbe",
   "metadata": {},
   "outputs": [
    {
     "data": {
      "text/plain": [
       "[]"
      ]
     },
     "execution_count": 87,
     "metadata": {},
     "output_type": "execute_result"
    }
   ],
   "source": [
    "def select_all_from_bd(bd):\n",
    "    cur.execute(f\"SELECT * FROM {bd}\")\n",
    "    rows = cur.fetchall()\n",
    "    return rows\n",
    "select_all_from_bd('stock')"
   ]
  },
  {
   "cell_type": "code",
   "execution_count": 96,
   "id": "9fbce614",
   "metadata": {},
   "outputs": [],
   "source": [
    "def del_by_condition(bd, condition_column, condition_value):\n",
    "    foreign_key_tables = ['product_available']\n",
    "\n",
    "    for table in foreign_key_tables:\n",
    "        cur.execute(f'''DELETE FROM {table} WHERE {table}.stockn IN (SELECT {bd}.s_id FROM {bd} \n",
    "                    WHERE {bd}.{condition_column} = '{condition_value}')''')\n",
    "\n",
    "    cur.execute(f\"DELETE FROM {bd} WHERE {condition_column} = '{condition_value}'\")\n",
    "    con.commit()\n",
    "\n",
    "del_by_condition('stock', 'number', 111111)\n"
   ]
  },
  {
   "cell_type": "code",
   "execution_count": 97,
   "id": "0102e015",
   "metadata": {},
   "outputs": [
    {
     "data": {
      "text/plain": [
       "[(2, 'Московское_7', 222222, 'Сидоров'),\n",
       " (3, 'Касимовское_3', 111222, 'Петров'),\n",
       " (4, 'Куйбышевское_27', 334455, 'Ковалев'),\n",
       " (5, 'Шабулина_12', 121212, 'Маматов'),\n",
       " (6, 'Яюлочкова_11', 345678, 'Маматов'),\n",
       " (7, 'Циолковского_17', 778877, 'Сазонов'),\n",
       " (8, 'Павлова_28', 321321, None),\n",
       " (9, 'Новоселов_60', 223344, 'Лоськов'),\n",
       " (10, 'Забайкальская_14', 445544, 'Родин')]"
      ]
     },
     "execution_count": 97,
     "metadata": {},
     "output_type": "execute_result"
    }
   ],
   "source": [
    "def select_all_from_bd(bd):\n",
    "    cur.execute(f\"SELECT * FROM {bd}\")\n",
    "    rows = cur.fetchall()\n",
    "    return rows\n",
    "select_all_from_bd('stock')"
   ]
  },
  {
   "cell_type": "code",
   "execution_count": null,
   "id": "1b1088dc",
   "metadata": {},
   "outputs": [],
   "source": []
  }
 ],
 "metadata": {
  "kernelspec": {
   "display_name": "Python 3 (ipykernel)",
   "language": "python",
   "name": "python3"
  },
  "language_info": {
   "codemirror_mode": {
    "name": "ipython",
    "version": 3
   },
   "file_extension": ".py",
   "mimetype": "text/x-python",
   "name": "python",
   "nbconvert_exporter": "python",
   "pygments_lexer": "ipython3",
   "version": "3.9.13"
  }
 },
 "nbformat": 4,
 "nbformat_minor": 5
}
